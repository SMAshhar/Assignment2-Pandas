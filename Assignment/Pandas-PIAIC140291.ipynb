{
 "metadata": {
  "language_info": {
   "codemirror_mode": {
    "name": "ipython",
    "version": 3
   },
   "file_extension": ".py",
   "mimetype": "text/x-python",
   "name": "python",
   "nbconvert_exporter": "python",
   "pygments_lexer": "ipython3",
   "version": "3.8.5-final"
  },
  "orig_nbformat": 2,
  "kernelspec": {
   "name": "python3",
   "display_name": "Python 3",
   "language": "python"
  }
 },
 "nbformat": 4,
 "nbformat_minor": 2,
 "cells": [
  {
   "cell_type": "code",
   "execution_count": 2,
   "metadata": {},
   "outputs": [
    {
     "output_type": "execute_result",
     "data": {
      "text/plain": [
       "         location  product_type product_description  quantity  price  \\\n",
       "0   Staten Island         seeds               daisy       4.0   6.99   \n",
       "1   Staten Island         seeds          calla lily      46.0  19.99   \n",
       "2   Staten Island         seeds              tomato      85.0  13.99   \n",
       "3   Staten Island  garden tools                rake       4.0  13.99   \n",
       "4   Staten Island  garden tools         wheelbarrow       0.0  89.99   \n",
       "..            ...           ...                 ...       ...    ...   \n",
       "1             NaN           NaN                 NaN       NaN    NaN   \n",
       "2             NaN           NaN                 NaN       NaN    NaN   \n",
       "3             NaN           NaN                 NaN       NaN    NaN   \n",
       "4             NaN           NaN                 NaN       NaN    NaN   \n",
       "5             NaN           NaN                 NaN       NaN    NaN   \n",
       "\n",
       "    Unnamed: 0          State   TotalPop             Hispanic  \\\n",
       "0          NaN            NaN        NaN                  NaN   \n",
       "1          NaN            NaN        NaN                  NaN   \n",
       "2          NaN            NaN        NaN                  NaN   \n",
       "3          NaN            NaN        NaN                  NaN   \n",
       "4          NaN            NaN        NaN                  NaN   \n",
       "..         ...            ...        ...                  ...   \n",
       "1          1.0        Vermont   626604.0  1.6092896174863391%   \n",
       "2          2.0       Virginia  8256630.0     8.0110164981373%   \n",
       "3          3.0     Washington  6985464.0  11.140968858131506%   \n",
       "4          4.0  West Virginia  1851420.0   1.290909090909089%   \n",
       "5          5.0      Wisconsin  5742117.0   6.683333333333334%   \n",
       "\n",
       "                  White                Black                Native  \\\n",
       "0                   NaN                  NaN                   NaN   \n",
       "1                   NaN                  NaN                   NaN   \n",
       "2                   NaN                  NaN                   NaN   \n",
       "3                   NaN                  NaN                   NaN   \n",
       "4                   NaN                  NaN                   NaN   \n",
       "..                  ...                  ...                   ...   \n",
       "1    93.98306010928961%  0.9808743169398909%    0.301639344262295%   \n",
       "2   63.271048430015945%   20.17599787120807%  0.21245343267695582%   \n",
       "3    72.03840830449816%   3.384429065743947%   1.4107266435986163%   \n",
       "4    92.17623966942146%  3.6628099173553723%  0.15268595041322316%   \n",
       "5    79.86400862068966%   8.195186781609202%   0.9536637931034483%   \n",
       "\n",
       "                  Asian                Pacific               Income  \\\n",
       "0                   NaN                    NaN                  NaN   \n",
       "1                   NaN                    NaN                  NaN   \n",
       "2                   NaN                    NaN                  NaN   \n",
       "3                   NaN                    NaN                  NaN   \n",
       "4                   NaN                    NaN                  NaN   \n",
       "..                  ...                    ...                  ...   \n",
       "1   1.2387978142076501%   0.03060109289617486%   $55602.96721311475   \n",
       "2    5.455242150079845%   0.06471527408195847%   $72866.01341201717   \n",
       "3    7.022006920415224%     0.609896193771627%   $64493.76768377254   \n",
       "4   0.6824380165289253%   0.02644628099173554%   $41437.11157024794   \n",
       "5    2.404238505747124%  0.020833333333333332%  $53898.889208633096   \n",
       "\n",
       "            GenderPop  \n",
       "0                 NaN  \n",
       "1                 NaN  \n",
       "2                 NaN  \n",
       "3                 NaN  \n",
       "4                 NaN  \n",
       "..                ...  \n",
       "1     308573M_318031F  \n",
       "2   4060948M_4195682F  \n",
       "3   3487725M_3497739F  \n",
       "4     913631M_937789F  \n",
       "5   2851385M_2890732F  \n",
       "\n",
       "[89 rows x 16 columns]"
      ],
      "text/html": "<div>\n<style scoped>\n    .dataframe tbody tr th:only-of-type {\n        vertical-align: middle;\n    }\n\n    .dataframe tbody tr th {\n        vertical-align: top;\n    }\n\n    .dataframe thead th {\n        text-align: right;\n    }\n</style>\n<table border=\"1\" class=\"dataframe\">\n  <thead>\n    <tr style=\"text-align: right;\">\n      <th></th>\n      <th>location</th>\n      <th>product_type</th>\n      <th>product_description</th>\n      <th>quantity</th>\n      <th>price</th>\n      <th>Unnamed: 0</th>\n      <th>State</th>\n      <th>TotalPop</th>\n      <th>Hispanic</th>\n      <th>White</th>\n      <th>Black</th>\n      <th>Native</th>\n      <th>Asian</th>\n      <th>Pacific</th>\n      <th>Income</th>\n      <th>GenderPop</th>\n    </tr>\n  </thead>\n  <tbody>\n    <tr>\n      <th>0</th>\n      <td>Staten Island</td>\n      <td>seeds</td>\n      <td>daisy</td>\n      <td>4.0</td>\n      <td>6.99</td>\n      <td>NaN</td>\n      <td>NaN</td>\n      <td>NaN</td>\n      <td>NaN</td>\n      <td>NaN</td>\n      <td>NaN</td>\n      <td>NaN</td>\n      <td>NaN</td>\n      <td>NaN</td>\n      <td>NaN</td>\n      <td>NaN</td>\n    </tr>\n    <tr>\n      <th>1</th>\n      <td>Staten Island</td>\n      <td>seeds</td>\n      <td>calla lily</td>\n      <td>46.0</td>\n      <td>19.99</td>\n      <td>NaN</td>\n      <td>NaN</td>\n      <td>NaN</td>\n      <td>NaN</td>\n      <td>NaN</td>\n      <td>NaN</td>\n      <td>NaN</td>\n      <td>NaN</td>\n      <td>NaN</td>\n      <td>NaN</td>\n      <td>NaN</td>\n    </tr>\n    <tr>\n      <th>2</th>\n      <td>Staten Island</td>\n      <td>seeds</td>\n      <td>tomato</td>\n      <td>85.0</td>\n      <td>13.99</td>\n      <td>NaN</td>\n      <td>NaN</td>\n      <td>NaN</td>\n      <td>NaN</td>\n      <td>NaN</td>\n      <td>NaN</td>\n      <td>NaN</td>\n      <td>NaN</td>\n      <td>NaN</td>\n      <td>NaN</td>\n      <td>NaN</td>\n    </tr>\n    <tr>\n      <th>3</th>\n      <td>Staten Island</td>\n      <td>garden tools</td>\n      <td>rake</td>\n      <td>4.0</td>\n      <td>13.99</td>\n      <td>NaN</td>\n      <td>NaN</td>\n      <td>NaN</td>\n      <td>NaN</td>\n      <td>NaN</td>\n      <td>NaN</td>\n      <td>NaN</td>\n      <td>NaN</td>\n      <td>NaN</td>\n      <td>NaN</td>\n      <td>NaN</td>\n    </tr>\n    <tr>\n      <th>4</th>\n      <td>Staten Island</td>\n      <td>garden tools</td>\n      <td>wheelbarrow</td>\n      <td>0.0</td>\n      <td>89.99</td>\n      <td>NaN</td>\n      <td>NaN</td>\n      <td>NaN</td>\n      <td>NaN</td>\n      <td>NaN</td>\n      <td>NaN</td>\n      <td>NaN</td>\n      <td>NaN</td>\n      <td>NaN</td>\n      <td>NaN</td>\n      <td>NaN</td>\n    </tr>\n    <tr>\n      <th>...</th>\n      <td>...</td>\n      <td>...</td>\n      <td>...</td>\n      <td>...</td>\n      <td>...</td>\n      <td>...</td>\n      <td>...</td>\n      <td>...</td>\n      <td>...</td>\n      <td>...</td>\n      <td>...</td>\n      <td>...</td>\n      <td>...</td>\n      <td>...</td>\n      <td>...</td>\n      <td>...</td>\n    </tr>\n    <tr>\n      <th>1</th>\n      <td>NaN</td>\n      <td>NaN</td>\n      <td>NaN</td>\n      <td>NaN</td>\n      <td>NaN</td>\n      <td>1.0</td>\n      <td>Vermont</td>\n      <td>626604.0</td>\n      <td>1.6092896174863391%</td>\n      <td>93.98306010928961%</td>\n      <td>0.9808743169398909%</td>\n      <td>0.301639344262295%</td>\n      <td>1.2387978142076501%</td>\n      <td>0.03060109289617486%</td>\n      <td>$55602.96721311475</td>\n      <td>308573M_318031F</td>\n    </tr>\n    <tr>\n      <th>2</th>\n      <td>NaN</td>\n      <td>NaN</td>\n      <td>NaN</td>\n      <td>NaN</td>\n      <td>NaN</td>\n      <td>2.0</td>\n      <td>Virginia</td>\n      <td>8256630.0</td>\n      <td>8.0110164981373%</td>\n      <td>63.271048430015945%</td>\n      <td>20.17599787120807%</td>\n      <td>0.21245343267695582%</td>\n      <td>5.455242150079845%</td>\n      <td>0.06471527408195847%</td>\n      <td>$72866.01341201717</td>\n      <td>4060948M_4195682F</td>\n    </tr>\n    <tr>\n      <th>3</th>\n      <td>NaN</td>\n      <td>NaN</td>\n      <td>NaN</td>\n      <td>NaN</td>\n      <td>NaN</td>\n      <td>3.0</td>\n      <td>Washington</td>\n      <td>6985464.0</td>\n      <td>11.140968858131506%</td>\n      <td>72.03840830449816%</td>\n      <td>3.384429065743947%</td>\n      <td>1.4107266435986163%</td>\n      <td>7.022006920415224%</td>\n      <td>0.609896193771627%</td>\n      <td>$64493.76768377254</td>\n      <td>3487725M_3497739F</td>\n    </tr>\n    <tr>\n      <th>4</th>\n      <td>NaN</td>\n      <td>NaN</td>\n      <td>NaN</td>\n      <td>NaN</td>\n      <td>NaN</td>\n      <td>4.0</td>\n      <td>West Virginia</td>\n      <td>1851420.0</td>\n      <td>1.290909090909089%</td>\n      <td>92.17623966942146%</td>\n      <td>3.6628099173553723%</td>\n      <td>0.15268595041322316%</td>\n      <td>0.6824380165289253%</td>\n      <td>0.02644628099173554%</td>\n      <td>$41437.11157024794</td>\n      <td>913631M_937789F</td>\n    </tr>\n    <tr>\n      <th>5</th>\n      <td>NaN</td>\n      <td>NaN</td>\n      <td>NaN</td>\n      <td>NaN</td>\n      <td>NaN</td>\n      <td>5.0</td>\n      <td>Wisconsin</td>\n      <td>5742117.0</td>\n      <td>6.683333333333334%</td>\n      <td>79.86400862068966%</td>\n      <td>8.195186781609202%</td>\n      <td>0.9536637931034483%</td>\n      <td>2.404238505747124%</td>\n      <td>0.020833333333333332%</td>\n      <td>$53898.889208633096</td>\n      <td>2851385M_2890732F</td>\n    </tr>\n  </tbody>\n</table>\n<p>89 rows × 16 columns</p>\n</div>"
     },
     "metadata": {},
     "execution_count": 2
    }
   ],
   "source": [
    "import glob\n",
    "import pandas as pd\n",
    "\n",
    "path =r'D:\\PIAIC\\Quarter 2\\Assignments\\1. Assingment\\Assignment 2\\Assignment'\n",
    "filenames = glob.glob(path + \"/*.csv\")\n",
    "dataFrames = []\n",
    "\n",
    "for filename in filenames:\n",
    "    dataFrames.append(pd.read_csv(filename))\n",
    "\n",
    "\n",
    "us_census = pd.concat(dataFrames)\n",
    "us_census"
   ]
  },
  {
   "cell_type": "code",
   "execution_count": 3,
   "metadata": {},
   "outputs": [
    {
     "output_type": "execute_result",
     "data": {
      "text/plain": [
       "(location                object\n",
       " product_type            object\n",
       " product_description     object\n",
       " quantity               float64\n",
       " price                  float64\n",
       " Unnamed: 0             float64\n",
       " State                   object\n",
       " TotalPop               float64\n",
       " Hispanic                object\n",
       " White                   object\n",
       " Black                   object\n",
       " Native                  object\n",
       " Asian                   object\n",
       " Pacific                 object\n",
       " Income                  object\n",
       " GenderPop               object\n",
       " dtype: object,\n",
       " Index(['location', 'product_type', 'product_description', 'quantity', 'price',\n",
       "        'Unnamed: 0', 'State', 'TotalPop', 'Hispanic', 'White', 'Black',\n",
       "        'Native', 'Asian', 'Pacific', 'Income', 'GenderPop'],\n",
       "       dtype='object'))"
      ]
     },
     "metadata": {},
     "execution_count": 3
    }
   ],
   "source": [
    "us_census.dtypes, us_census.columns"
   ]
  },
  {
   "cell_type": "code",
   "execution_count": 4,
   "metadata": {},
   "outputs": [
    {
     "output_type": "execute_result",
     "data": {
      "text/plain": [
       "        location  product_type product_description  quantity  price  \\\n",
       "0  Staten Island         seeds               daisy       4.0   6.99   \n",
       "1  Staten Island         seeds          calla lily      46.0  19.99   \n",
       "2  Staten Island         seeds              tomato      85.0  13.99   \n",
       "3  Staten Island  garden tools                rake       4.0  13.99   \n",
       "4  Staten Island  garden tools         wheelbarrow       0.0  89.99   \n",
       "\n",
       "   Unnamed: 0 State  TotalPop Hispanic White Black Native Asian Pacific  \\\n",
       "0         NaN   NaN       NaN      NaN   NaN   NaN    NaN   NaN     NaN   \n",
       "1         NaN   NaN       NaN      NaN   NaN   NaN    NaN   NaN     NaN   \n",
       "2         NaN   NaN       NaN      NaN   NaN   NaN    NaN   NaN     NaN   \n",
       "3         NaN   NaN       NaN      NaN   NaN   NaN    NaN   NaN     NaN   \n",
       "4         NaN   NaN       NaN      NaN   NaN   NaN    NaN   NaN     NaN   \n",
       "\n",
       "  Income GenderPop  \n",
       "0    NaN       NaN  \n",
       "1    NaN       NaN  \n",
       "2    NaN       NaN  \n",
       "3    NaN       NaN  \n",
       "4    NaN       NaN  "
      ],
      "text/html": "<div>\n<style scoped>\n    .dataframe tbody tr th:only-of-type {\n        vertical-align: middle;\n    }\n\n    .dataframe tbody tr th {\n        vertical-align: top;\n    }\n\n    .dataframe thead th {\n        text-align: right;\n    }\n</style>\n<table border=\"1\" class=\"dataframe\">\n  <thead>\n    <tr style=\"text-align: right;\">\n      <th></th>\n      <th>location</th>\n      <th>product_type</th>\n      <th>product_description</th>\n      <th>quantity</th>\n      <th>price</th>\n      <th>Unnamed: 0</th>\n      <th>State</th>\n      <th>TotalPop</th>\n      <th>Hispanic</th>\n      <th>White</th>\n      <th>Black</th>\n      <th>Native</th>\n      <th>Asian</th>\n      <th>Pacific</th>\n      <th>Income</th>\n      <th>GenderPop</th>\n    </tr>\n  </thead>\n  <tbody>\n    <tr>\n      <th>0</th>\n      <td>Staten Island</td>\n      <td>seeds</td>\n      <td>daisy</td>\n      <td>4.0</td>\n      <td>6.99</td>\n      <td>NaN</td>\n      <td>NaN</td>\n      <td>NaN</td>\n      <td>NaN</td>\n      <td>NaN</td>\n      <td>NaN</td>\n      <td>NaN</td>\n      <td>NaN</td>\n      <td>NaN</td>\n      <td>NaN</td>\n      <td>NaN</td>\n    </tr>\n    <tr>\n      <th>1</th>\n      <td>Staten Island</td>\n      <td>seeds</td>\n      <td>calla lily</td>\n      <td>46.0</td>\n      <td>19.99</td>\n      <td>NaN</td>\n      <td>NaN</td>\n      <td>NaN</td>\n      <td>NaN</td>\n      <td>NaN</td>\n      <td>NaN</td>\n      <td>NaN</td>\n      <td>NaN</td>\n      <td>NaN</td>\n      <td>NaN</td>\n      <td>NaN</td>\n    </tr>\n    <tr>\n      <th>2</th>\n      <td>Staten Island</td>\n      <td>seeds</td>\n      <td>tomato</td>\n      <td>85.0</td>\n      <td>13.99</td>\n      <td>NaN</td>\n      <td>NaN</td>\n      <td>NaN</td>\n      <td>NaN</td>\n      <td>NaN</td>\n      <td>NaN</td>\n      <td>NaN</td>\n      <td>NaN</td>\n      <td>NaN</td>\n      <td>NaN</td>\n      <td>NaN</td>\n    </tr>\n    <tr>\n      <th>3</th>\n      <td>Staten Island</td>\n      <td>garden tools</td>\n      <td>rake</td>\n      <td>4.0</td>\n      <td>13.99</td>\n      <td>NaN</td>\n      <td>NaN</td>\n      <td>NaN</td>\n      <td>NaN</td>\n      <td>NaN</td>\n      <td>NaN</td>\n      <td>NaN</td>\n      <td>NaN</td>\n      <td>NaN</td>\n      <td>NaN</td>\n      <td>NaN</td>\n    </tr>\n    <tr>\n      <th>4</th>\n      <td>Staten Island</td>\n      <td>garden tools</td>\n      <td>wheelbarrow</td>\n      <td>0.0</td>\n      <td>89.99</td>\n      <td>NaN</td>\n      <td>NaN</td>\n      <td>NaN</td>\n      <td>NaN</td>\n      <td>NaN</td>\n      <td>NaN</td>\n      <td>NaN</td>\n      <td>NaN</td>\n      <td>NaN</td>\n      <td>NaN</td>\n      <td>NaN</td>\n    </tr>\n  </tbody>\n</table>\n</div>"
     },
     "metadata": {},
     "execution_count": 4
    }
   ],
   "source": [
    "us_census.head()"
   ]
  },
  {
   "cell_type": "code",
   "execution_count": null,
   "metadata": {},
   "outputs": [],
   "source": []
  }
 ]
}